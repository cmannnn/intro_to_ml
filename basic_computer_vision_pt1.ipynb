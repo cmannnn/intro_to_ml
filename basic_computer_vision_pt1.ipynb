{
  "nbformat": 4,
  "nbformat_minor": 0,
  "metadata": {
    "colab": {
      "name": "basic_computer_vision_pt1.ipynb",
      "provenance": [],
      "authorship_tag": "ABX9TyNmMKJlh5geysyIR4+bFy+2",
      "include_colab_link": true
    },
    "kernelspec": {
      "name": "python3",
      "display_name": "Python 3"
    }
  },
  "cells": [
    {
      "cell_type": "markdown",
      "metadata": {
        "id": "view-in-github",
        "colab_type": "text"
      },
      "source": [
        "<a href=\"https://colab.research.google.com/github/cmannnn/intro_to_ml/blob/main/basic_computer_vision_pt1.ipynb\" target=\"_parent\"><img src=\"https://colab.research.google.com/assets/colab-badge.svg\" alt=\"Open In Colab\"/></a>"
      ]
    },
    {
      "cell_type": "code",
      "metadata": {
        "id": "l_sdmmVZK_VN"
      },
      "source": [
        "# setting imports\n",
        "import tensorflow as tf\n",
        "import numpy as np\n",
        "from tensorflow import keras"
      ],
      "execution_count": 59,
      "outputs": []
    },
    {
      "cell_type": "code",
      "metadata": {
        "colab": {
          "base_uri": "https://localhost:8080/"
        },
        "id": "KvrNv8f2SZge",
        "outputId": "6c9ed404-829e-447a-cb0b-db9b4030a915"
      },
      "source": [
        "# function \n",
        "def my_function(x):\n",
        "    y = (5 * x) + 2\n",
        "    return y\n",
        "\n",
        "for x in range(-1, 5):\n",
        "  print(f'The y output is {my_function(x)}')"
      ],
      "execution_count": 60,
      "outputs": [
        {
          "output_type": "stream",
          "text": [
            "The y output is -3\n",
            "The y output is 2\n",
            "The y output is 7\n",
            "The y output is 12\n",
            "The y output is 17\n",
            "The y output is 22\n"
          ],
          "name": "stdout"
        }
      ]
    },
    {
      "cell_type": "code",
      "metadata": {
        "id": "e3mrj8tyQQWK"
      },
      "source": [
        "# creating the model\n",
        "model = tf.keras.Sequential([keras.layers.Dense(units=1, input_shape=[1])])"
      ],
      "execution_count": 61,
      "outputs": []
    },
    {
      "cell_type": "code",
      "metadata": {
        "id": "lUpH8umhQ0p6"
      },
      "source": [
        "# compiling the model\n",
        "model.compile(optimizer='sgd', loss='mean_squared_error')"
      ],
      "execution_count": 62,
      "outputs": []
    },
    {
      "cell_type": "code",
      "metadata": {
        "id": "YITd5DXVRIDe"
      },
      "source": [
        "# providing data\n",
        "xs = np.array([-1.0, 0.0, 1.0, 2.0, 3.0, 4.0], dtype=float)\n",
        "ys = np.array([-3.0, 2.0, 7.0, 12.0, 17.0, 22.0], dtype=float)"
      ],
      "execution_count": 63,
      "outputs": []
    },
    {
      "cell_type": "code",
      "metadata": {
        "id": "gfTKnx6nRg0_"
      },
      "source": [
        "# training the neural network\n",
        "model.fit(xs, ys, epochs=500)"
      ],
      "execution_count": null,
      "outputs": []
    },
    {
      "cell_type": "code",
      "metadata": {
        "colab": {
          "base_uri": "https://localhost:8080/"
        },
        "id": "wQd8tOzRR9QX",
        "outputId": "ab95ce6d-a94d-4e64-d460-9967419d55e0"
      },
      "source": [
        "print(model.predict([10.0]))"
      ],
      "execution_count": 65,
      "outputs": [
        {
          "output_type": "stream",
          "text": [
            "[[51.999073]]\n"
          ],
          "name": "stdout"
        }
      ]
    }
  ]
}