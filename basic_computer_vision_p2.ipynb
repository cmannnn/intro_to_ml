{
  "nbformat": 4,
  "nbformat_minor": 0,
  "metadata": {
    "colab": {
      "name": "basic_computer_vision_p2.ipynb",
      "provenance": [],
      "authorship_tag": "ABX9TyNrL3yCjbygS9hqo1zC3Gg7",
      "include_colab_link": true
    },
    "kernelspec": {
      "name": "python3",
      "display_name": "Python 3"
    }
  },
  "cells": [
    {
      "cell_type": "markdown",
      "metadata": {
        "id": "view-in-github",
        "colab_type": "text"
      },
      "source": [
        "<a href=\"https://colab.research.google.com/github/cmannnn/intro_to_ml/blob/main/basic_computer_vision_p2.ipynb\" target=\"_parent\"><img src=\"https://colab.research.google.com/assets/colab-badge.svg\" alt=\"Open In Colab\"/></a>"
      ]
    },
    {
      "cell_type": "code",
      "metadata": {
        "id": "DlSxrnoVh8Xy",
        "colab": {
          "base_uri": "https://localhost:8080/"
        },
        "outputId": "f69fe312-e38d-495b-915e-19ab8c07840f"
      },
      "source": [
        "# imports\n",
        "import tensorflow as tf\n",
        "import matplotlib.pyplot as plt\n",
        "print(f'Using TensorFlow version {tf.__version__}')"
      ],
      "execution_count": 1,
      "outputs": [
        {
          "output_type": "stream",
          "text": [
            "Using TensorFlow version 2.3.0\n"
          ],
          "name": "stdout"
        }
      ]
    },
    {
      "cell_type": "code",
      "metadata": {
        "id": "XbfU43sTiKdF",
        "colab": {
          "base_uri": "https://localhost:8080/"
        },
        "outputId": "fa524b70-e7d3-412f-a7a6-a7eaf04f9f0d"
      },
      "source": [
        "# loading Fashion MNIST dataset\n",
        "mnist = tf.keras.datasets.fashion_mnist \n",
        "(training_images, training_labels), (test_images, test_labels) = mnist.load_data()\n"
      ],
      "execution_count": 2,
      "outputs": [
        {
          "output_type": "stream",
          "text": [
            "Downloading data from https://storage.googleapis.com/tensorflow/tf-keras-datasets/train-labels-idx1-ubyte.gz\n",
            "32768/29515 [=================================] - 0s 0us/step\n",
            "Downloading data from https://storage.googleapis.com/tensorflow/tf-keras-datasets/train-images-idx3-ubyte.gz\n",
            "26427392/26421880 [==============================] - 0s 0us/step\n",
            "Downloading data from https://storage.googleapis.com/tensorflow/tf-keras-datasets/t10k-labels-idx1-ubyte.gz\n",
            "8192/5148 [===============================================] - 0s 0us/step\n",
            "Downloading data from https://storage.googleapis.com/tensorflow/tf-keras-datasets/t10k-images-idx3-ubyte.gz\n",
            "4423680/4422102 [==============================] - 0s 0us/step\n"
          ],
          "name": "stdout"
        }
      ]
    },
    {
      "cell_type": "code",
      "metadata": {
        "id": "ykXcNCNfi-gX",
        "colab": {
          "base_uri": "https://localhost:8080/",
          "height": 1000
        },
        "outputId": "963396bf-9d4d-4ad0-8bff-16b80e558056"
      },
      "source": [
        "# showing an image\n",
        "plt.imshow(training_images[14])\n",
        "print(training_images[14])\n",
        "print(f'The training label is {training_labels[14]}')"
      ],
      "execution_count": 3,
      "outputs": [
        {
          "output_type": "stream",
          "text": [
            "[[  0   0   0   0   0   0   0   0   0   0   0   0   0   0   0   0   0   0\n",
            "    0   0   0   0   0   0   0   0   0   0]\n",
            " [  0   0   0   0   0   0   0   0   0   0   0   0   0   0   0   0   0   0\n",
            "    0   0   0   0   0   0   0   0   0   0]\n",
            " [  0   0   0   0   0   0   0   0   0   0   0   0   0   0   0   0   0   0\n",
            "    0   0   0   0   0   0   0   0   0   0]\n",
            " [  0   0   0   0   0   0   0   0   0   0   0   0   0   0   0   0   0   0\n",
            "    0   0   0   0   0   0   0   0   0   0]\n",
            " [  0   0   0   0   0   0   0   0   0   0   0   0   0   0   0   0   0   0\n",
            "    0   0   0   0   0   0   0   0   0   0]\n",
            " [  0   0   0   0   0   0   0   0   0   0   0   0   0   0   0   0   0   0\n",
            "    0   0   0   0   0   0   0   0   0   0]\n",
            " [  0   0   0   0   0   0   0   0   0   0   0   0   0   0   0   0   0   0\n",
            "    0   0   0   0   0   0   0   0   0   0]\n",
            " [  0   0   0   0   0   0   0   0   0   0   0   0   0   0   0   0   0   0\n",
            "    0   0   0   0   0   0   0   0   0   0]\n",
            " [  0   0   0   0   0   0   0   0   0   0   0   0   0   0   0   0   0   0\n",
            "    0   0   0   0   0   0   0   0   0   0]\n",
            " [  0   0   0   0   0   0   0   0   0   0   0   0   0   0   0   1  69  35\n",
            "    0   1   0   0   0   0   0   0   0   0]\n",
            " [  0   0   0   0   0   0   0   0   1   0   0   0   0  34 160 128 191 114\n",
            "    0   0   0   0   0   0   0 107  59   0]\n",
            " [  0   0   0   0   0   1   1   0   0   0   5  48 126 151 160 172 113 130\n",
            "   61   0   0   0   0  51 201 245 166   0]\n",
            " [  1   2   1   0   0   0   0   0   0  30 164 166 136 119 101  88 165 149\n",
            "  141 116  97  92 132 162 141 233 210   0]\n",
            " [  0   0   0   0   2  14  34  64  82 119 135  88 136 122 206 190 122 122\n",
            "  116 144 145 151 144 140 151 159 182  11]\n",
            " [  0   2  42  72  90 105 115 102 106 120  93 149 131  99 185 198  94  94\n",
            "  105  97 113 102 114 123 107  93 147  31]\n",
            " [ 92 228 130 109  95  86  85  73  94  85 103 102  65  74  77  78  90  97\n",
            "  107 114 114 123 144 139 136 157 189  31]\n",
            " [ 19  88 141 173 173 173 161 170 203 198 205 215 224 227 230 245 255 252\n",
            "  248 252 239 228 216 214 214 208 231  82]\n",
            " [ 14   0   0   0   0   0   0   0   5   3  10   5   6  14  14  11   6   1\n",
            "    0   0   0   0   0   0   0   0   0  13]\n",
            " [  0  14  28  31  28  24  27  24  24  23  30  22  19  21  21  22  23  23\n",
            "   24  26  28  35  39  36  36  38  44  22]\n",
            " [  0   0   0   0   0   0   0   0   0   0   0   0   0   0   0   0   0   0\n",
            "    0   0   0   0   0   0   0   0   0   0]\n",
            " [  0   0   0   0   0   0   0   0   0   0   0   0   0   0   0   0   0   0\n",
            "    0   0   0   0   0   0   0   0   0   0]\n",
            " [  0   0   0   0   0   0   0   0   0   0   0   0   0   0   0   0   0   0\n",
            "    0   0   0   0   0   0   0   0   0   0]\n",
            " [  0   0   0   0   0   0   0   0   0   0   0   0   0   0   0   0   0   0\n",
            "    0   0   0   0   0   0   0   0   0   0]\n",
            " [  0   0   0   0   0   0   0   0   0   0   0   0   0   0   0   0   0   0\n",
            "    0   0   0   0   0   0   0   0   0   0]\n",
            " [  0   0   0   0   0   0   0   0   0   0   0   0   0   0   0   0   0   0\n",
            "    0   0   0   0   0   0   0   0   0   0]\n",
            " [  0   0   0   0   0   0   0   0   0   0   0   0   0   0   0   0   0   0\n",
            "    0   0   0   0   0   0   0   0   0   0]\n",
            " [  0   0   0   0   0   0   0   0   0   0   0   0   0   0   0   0   0   0\n",
            "    0   0   0   0   0   0   0   0   0   0]\n",
            " [  0   0   0   0   0   0   0   0   0   0   0   0   0   0   0   0   0   0\n",
            "    0   0   0   0   0   0   0   0   0   0]]\n",
            "The training label is 7\n"
          ],
          "name": "stdout"
        },
        {
          "output_type": "display_data",
          "data": {
            "image/png": "[encoded data removed]",
            "text/plain": [
              "<Figure size 432x288 with 1 Axes>"
            ]
          },
          "metadata": {
            "tags": [],
            "needs_background": "light"
          }
        }
      ]
    },
    {
      "cell_type": "code",
      "metadata": {
        "id": "W3GhhEC3j7ld"
      },
      "source": [
        "# normalizing test and train images\n",
        "training_images = training_images / 255.0\n",
        "test_images = test_images / 255.0"
      ],
      "execution_count": 4,
      "outputs": []
    },
    {
      "cell_type": "code",
      "metadata": {
        "id": "ftfJCfuqkpBy"
      },
      "source": [
        "# creating the model\n",
        "model = tf.keras.models.Sequential([tf.keras.layers.Flatten(),\n",
        "                                    tf.keras.layers.Dense(128, activation=tf.nn.relu),\n",
        "                                    tf.keras.layers.Dense(10, activation=tf.nn.softmax)])"
      ],
      "execution_count": null,
      "outputs": []
    },
    {
      "cell_type": "code",
      "metadata": {
        "id": "JNUTk0MalW6_"
      },
      "source": [
        "# building model\n",
        "model.compile(optimizer = tf.keras.optimizers.Adam(),\n",
        "              loss = 'sparse_categorical_crossentropy',\n",
        "              metrics = ['accuracy'])\n",
        "\n",
        "model.fit(training_images, training_labels, epochs = 5)"
      ],
      "execution_count": null,
      "outputs": []
    },
    {
      "cell_type": "code",
      "metadata": {
        "id": "OVjcsrE2mDaW"
      },
      "source": [
        "# trying model on testing set\n",
        "model.evaluate(test_images, test_labels)"
      ],
      "execution_count": null,
      "outputs": []
    },
    {
      "cell_type": "code",
      "metadata": {
        "id": "U-kc0Jv1ml4J"
      },
      "source": [
        "# exploring classifiers\n",
        "classifications = model.predict(test_images)\n",
        "\n",
        "print(classifications[10])"
      ],
      "execution_count": null,
      "outputs": []
    },
    {
      "cell_type": "code",
      "metadata": {
        "id": "vv7h-okYtX3a"
      },
      "source": [
        "# actual test label\n",
        "print(test_labels[10])"
      ],
      "execution_count": null,
      "outputs": []
    },
    {
      "cell_type": "markdown",
      "metadata": {
        "id": "ziYDIxNFpHDf"
      },
      "source": [
        "#Messing with a Different Model"
      ]
    },
    {
      "cell_type": "code",
      "metadata": {
        "id": "SEN_Qb-6n-_F"
      },
      "source": [
        "# creating a better model\n",
        "model_2 = tf.keras.models.Sequential([tf.keras.layers.Flatten(),\n",
        "                                     tf.keras.layers.Dense(1024, activation=tf.nn.relu),\n",
        "                                     tf.keras.layers.Dense(10, activation=tf.nn.softmax)]) \n",
        "\n",
        "model_2.compile(optimizer = tf.keras.optimizers.Adam(),\n",
        "              loss = 'sparse_categorical_crossentropy',\n",
        "              metrics = 'accuracy')\n",
        "\n",
        "model_2.fit(training_images, training_labels, epochs=5)\n",
        "\n",
        "model_2.evaluate(test_images, test_labels)\n",
        "\n",
        "classifications_2 = model_2.predict(test_images)"
      ],
      "execution_count": null,
      "outputs": []
    },
    {
      "cell_type": "code",
      "metadata": {
        "id": "vJ9cmOwPpBpf"
      },
      "source": [
        "# new model_2 label test\n",
        "plt.imshow(test_images[73])\n",
        "print(classifications_2[73])\n",
        "print(test_labels[73])"
      ],
      "execution_count": null,
      "outputs": []
    },
    {
      "cell_type": "code",
      "metadata": {
        "id": "XK4sWvUsuydT"
      },
      "source": [
        "# testing without Flatten() layer, therefore error\n",
        "\n",
        "model_3 = tf.keras.models([tf.keras.layers.Dense(64, activation = tf.nn.relu),\n",
        "                           tf.keras.layers.Dense(10, activation = tf.nn.softmax)])\n",
        "\n",
        "model.compile(optimizer='adam',\n",
        "              loss = 'sparse_categorical_crossentropy')\n",
        "\n",
        "model.fit(training_images, test_labels, epochs=5)\n",
        "\n",
        "model.evaluate(test_images, test_labels)\n",
        "\n",
        "classification_3 = model.predict(test_images)\n",
        "\n",
        "print(classification_3[14])\n",
        "print(test_labels[14])"
      ],
      "execution_count": null,
      "outputs": []
    },
    {
      "cell_type": "code",
      "metadata": {
        "id": "vZbg1KLb_KzW"
      },
      "source": [
        "# testing with changing last output layer from 10 -> 5 \n",
        "\n",
        "model_4 = tf.keras.models.Sequential([tf.keras.layers.Flatten(),\n",
        "                                      tf.keras.layers.Dense(64, activation=tf.nn.relu),\n",
        "                                      tf.keras.layers.Dense(5, activation=tf.nn.softmax)])\n",
        "\n",
        "model_4.compile(optimizer='adam',\n",
        "              loss = 'sparse_categorical_crossentropy')\n",
        "\n",
        "model_4.fit(training_images, training_labels, epochs=5)\n",
        "\n",
        "model_4.evaluate(test_images, test_labels)\n",
        "\n",
        "classification_4 = model_4.predict(test_images)\n",
        "\n",
        "print(classification_4[13])\n",
        "print(test_labels[13])"
      ],
      "execution_count": null,
      "outputs": []
    },
    {
      "cell_type": "code",
      "metadata": {
        "id": "tXLwMJPJAc2W"
      },
      "source": [
        "# adding another layer\n",
        "\n",
        "model_5 = tf.keras.models.Sequential([tf.keras.layers.Flatten(),\n",
        "                                      tf.keras.layers.Dense(512, activation=tf.nn.relu),\n",
        "                                      tf.keras.layers.Dense(256, activation=tf.nn.relu),\n",
        "                                      tf.keras.layers.Dense(10, activation=tf.nn.softmax)])\n",
        "\n",
        "model_5.compile(optimizer='adam',\n",
        "                loss='sparse_categorical_crossentropy',\n",
        "                metrics='accuracy')\n",
        "\n",
        "model_5.fit(training_images, training_labels, epochs=5)\n",
        "\n",
        "model_5.evaluate(test_images, test_labels)\n",
        "\n",
        "classification_5 = model_5.predict(test_images)\n",
        "\n",
        "print(classification_5[73])\n",
        "print(test_labels[73])"
      ],
      "execution_count": null,
      "outputs": []
    },
    {
      "cell_type": "code",
      "metadata": {
        "id": "quk6pKRyBzaa"
      },
      "source": [
        "# training with more epochs?\n",
        "\n",
        "model_6 = tf.keras.models.Sequential([tf.keras.layers.Flatten(),\n",
        "                                      tf.keras.layers.Dense(128, activation=tf.nn.relu),\n",
        "                                      tf.keras.layers.Dense(10, activation=tf.nn.softmax)])\n",
        "\n",
        "model_6.compile(optimizer='adam',\n",
        "                loss='sparse_categorical_crossentropy')\n",
        "\n",
        "model_6.fit(training_images, training_labels, epochs=30)\n",
        "\n",
        "model_6.evaluate(test_images, test_labels)\n",
        "\n",
        "classification_6 = model_6.predict(test_images)\n",
        "\n",
        "print(classification_6[42])\n",
        "print(test_labels[42])"
      ],
      "execution_count": null,
      "outputs": []
    },
    {
      "cell_type": "code",
      "metadata": {
        "id": "O1DwsKtjXgs_"
      },
      "source": [
        "# running model w/o normalization\n",
        "import tensorflow as tf\n",
        "mnist = tf.keras.datasets.fashion_mnist\n",
        "(training_images, training_labels), (test_images, test_labels) = mnist.load_data()\n",
        "\n",
        "model_7 = tf.keras.models.Sequential([tf.keras.layers.Flatten(),\n",
        "                                      tf.keras.layers.Dense(512, activation=tf.nn.softmax),\n",
        "                                      tf.keras.layers.Dense(10, activation=tf.nn.softmax)])\n",
        "\n",
        "model_7.compile(optimizer='adam', loss='sparse_categorical_crossentropy')\n",
        "\n",
        "model_7.fit(training_images, training_labels, epochs=5)\n",
        "\n",
        "model_7.evaluate(test_images, test_labels)\n",
        "\n",
        "classification_7 = model_7.predict(test_images)\n",
        "\n",
        "print(classification_7[31])\n",
        "print(test_labels[31])\n"
      ],
      "execution_count": null,
      "outputs": []
    },
    {
      "cell_type": "code",
      "metadata": {
        "colab": {
          "base_uri": "https://localhost:8080/"
        },
        "id": "W_76uuidZHWD",
        "outputId": "70c42eaa-e6c2-4016-912d-2a0d6397fa8d"
      },
      "source": [
        "# callback for 90% accuracy\n",
        "import tensorflow as tf\n",
        "\n",
        "class myCallback(tf.keras.callbacks.Callback):\n",
        "  def on_epoch_end(self, epoch, logs={}):\n",
        "    if(logs.get('accuracy')>0.9):\n",
        "      print('n\\Reached 90% accuracy so canceling traning')\n",
        "      self.model.stop_training = True\n",
        "\n",
        "callbacks = myCallback()\n",
        "mnist = tf.keras.datasets.fashion_mnist\n",
        "(training_images, training_labels), (test_images, test_labels) = mnist.load_data()\n",
        "training_images = training_images/255.0\n",
        "test_images = test_images/255.0\n",
        "model_8 = tf.keras.Sequential([\n",
        "                               tf.keras.layers.Flatten(),\n",
        "                               tf.keras.layers.Dense(512, activation=tf.nn.relu),\n",
        "                               tf.keras.layers.Dense(10, activation=tf.nn.softmax)\n",
        "])\n",
        "\n",
        "model_8.compile(optimizer='adam', loss='sparse_categorical_crossentropy', metrics=['accuracy'])\n",
        "\n",
        "model_8.fit(training_images, training_labels, epochs=15, callbacks=[callbacks])"
      ],
      "execution_count": 12,
      "outputs": [
        {
          "output_type": "stream",
          "text": [
            "Epoch 1/15\n",
            "1875/1875 [==============================] - 6s 3ms/step - loss: 0.4788 - accuracy: 0.8295\n",
            "Epoch 2/15\n",
            "1875/1875 [==============================] - 6s 3ms/step - loss: 0.3597 - accuracy: 0.8682\n",
            "Epoch 3/15\n",
            "1875/1875 [==============================] - 6s 3ms/step - loss: 0.3211 - accuracy: 0.8820\n",
            "Epoch 4/15\n",
            "1875/1875 [==============================] - 6s 3ms/step - loss: 0.2973 - accuracy: 0.8904\n",
            "Epoch 5/15\n",
            "1875/1875 [==============================] - 6s 3ms/step - loss: 0.2808 - accuracy: 0.8947\n",
            "Epoch 6/15\n",
            "1870/1875 [============================>.] - ETA: 0s - loss: 0.2654 - accuracy: 0.9001n\\Reached 90% accuracy so canceling traning\n",
            "1875/1875 [==============================] - 6s 3ms/step - loss: 0.2653 - accuracy: 0.9002\n"
          ],
          "name": "stdout"
        },
        {
          "output_type": "execute_result",
          "data": {
            "text/plain": [
              "<tensorflow.python.keras.callbacks.History at 0x7f82831dc7f0>"
            ]
          },
          "metadata": {
            "tags": []
          },
          "execution_count": 12
        }
      ]
    },
    {
      "cell_type": "code",
      "metadata": {
        "id": "ptnrJoNCbxW5"
      },
      "source": [
        ""
      ],
      "execution_count": null,
      "outputs": []
    }
  ]
}